{
  "cells": [
    {
      "metadata": {},
      "cell_type": "markdown",
      "source": "# Mixed Integer Programming(MIP) for the instance  'Meal Planning for the New Millennium'(MnM)"
    },
    {
      "metadata": {},
      "cell_type": "markdown",
      "source": "## Download the library \nFirst install [DOcplex](https://cdn.rawgit.com/IBMDecisionOptimization/docplex-doc/2.0.15/docs/index.html) Python library if needed. Consider the scale for this problem, [CPLEX](https://www.ibm.com/analytics/cplex-optimizer) or [DOcplexcloud](https://developer.ibm.com/docloud) is needed. "
    },
    {
      "metadata": {
        "trusted": false
      },
      "cell_type": "code",
      "source": "import sys\ntry:\n    import docplex.mp\nexcept:\n    if hasattr(sys, 'real_prefix'):\n        #we are in a virtual env.\n        !pip install docplex\n    else:\n        !pip install --user docplex",
      "execution_count": 1,
      "outputs": []
    },
    {
      "metadata": {},
      "cell_type": "markdown",
      "source": "Set up the prescriptive engine\n\nSubscribe to DOcplexcloudor Decision Optimization on Cloud solve service here if you do not want to use a local solver.\nGet the service URL and your personal API key and enter your credentials here if accurate:"
    },
    {
      "metadata": {
        "trusted": false
      },
      "cell_type": "code",
      "source": "# url = None\n# key = None",
      "execution_count": 2,
      "outputs": []
    },
    {
      "metadata": {},
      "cell_type": "markdown",
      "source": "## Create a model instance"
    },
    {
      "metadata": {
        "trusted": false
      },
      "cell_type": "code",
      "source": "from docplex.mp.model import Model\n\nMnM = Model(name='Meal Planning for the New Millennium')",
      "execution_count": 3,
      "outputs": []
    },
    {
      "metadata": {},
      "cell_type": "markdown",
      "source": "The model for this instance is describe below\n<p>\n<ul>\n<img src = \"https://i.imgur.com/6yruMx3.png\" width=\"50%\" height=\"50%\" >\n</ul> \n"
    },
    {
      "metadata": {
        "trusted": false
      },
      "cell_type": "code",
      "source": "import numpy as np\nimport pandas as pd",
      "execution_count": 4,
      "outputs": []
    },
    {
      "metadata": {
        "trusted": false
      },
      "cell_type": "code",
      "source": "df = pd.read_csv('recipe-user-rating-after-matrix-completion.csv', index_col=False)",
      "execution_count": 5,
      "outputs": []
    },
    {
      "metadata": {
        "trusted": false
      },
      "cell_type": "code",
      "source": "df.tail()",
      "execution_count": 6,
      "outputs": [
        {
          "data": {
            "text/html": "<div>\n<style scoped>\n    .dataframe tbody tr th:only-of-type {\n        vertical-align: middle;\n    }\n\n    .dataframe tbody tr th {\n        vertical-align: top;\n    }\n\n    .dataframe thead th {\n        text-align: right;\n    }\n</style>\n<table border=\"1\" class=\"dataframe\">\n  <thead>\n    <tr style=\"text-align: right;\">\n      <th></th>\n      <th>Unnamed: 0</th>\n      <th>X</th>\n      <th>X10.Minute.Sausage.Skillet.with.Cherry.Tomatoes.and.Broccolini</th>\n      <th>Arroz.Caldo..Chicken.Rice.Porridge.</th>\n      <th>Baked.Feta.and.Greens.with.Lemony.Yogurt</th>\n      <th>Baked.Mustard.Crusted.Salmon.with.Asparagus.and.Tarragon</th>\n      <th>Baked.Penne.with.Green.Chiles</th>\n      <th>Basil.Cashew.Lime.Vermicelli.Bowls.with.Pork.and.Green.Beans</th>\n      <th>Beef.and.Potato.Pasties</th>\n      <th>Black.Eyed.Peas.With.Chard.and.Green.Herb.Smash</th>\n      <th>...</th>\n      <th>Tomato.and.Cannellini.Bean.Soup</th>\n      <th>Tuna.and.Artichoke.Cooler.Pressed.Sandwiches</th>\n      <th>Twice.Baked.Butternut.Squash.With.Parmesan.Cream.and.Candied.Bacon</th>\n      <th>Vegetarian.Brown.Rice.Salad.With.Parsnips.and.Whipped.Ricotta</th>\n      <th>Veggie.Burgers.with.Zucchini.and.Corn</th>\n      <th>Very.Versatile.Baked.Beans.With.Cabbage</th>\n      <th>Vietnamese.Style.Spaghetti.Squash..Noodle..Bowls.with.Skirt.Steak</th>\n      <th>White.Bean.Salad.with.Lemon.and.Cumin</th>\n      <th>White.Chicken.Chili</th>\n      <th>Winter.Squash.Soup.with.Gruyère.Croutons</th>\n    </tr>\n  </thead>\n  <tbody>\n    <tr>\n      <th>36</th>\n      <td>37</td>\n      <td>36</td>\n      <td>4.784748</td>\n      <td>5.098590</td>\n      <td>4.830509</td>\n      <td>4.000000</td>\n      <td>3.299461</td>\n      <td>4.544617</td>\n      <td>4.000000</td>\n      <td>5.190940</td>\n      <td>...</td>\n      <td>4.613763</td>\n      <td>2.310698</td>\n      <td>5.000000</td>\n      <td>3.676631</td>\n      <td>2.327916</td>\n      <td>4.393212</td>\n      <td>2.720434</td>\n      <td>4.000000</td>\n      <td>5.000000</td>\n      <td>4.956793</td>\n    </tr>\n    <tr>\n      <th>37</th>\n      <td>38</td>\n      <td>37</td>\n      <td>5.000000</td>\n      <td>5.195067</td>\n      <td>5.000000</td>\n      <td>4.383544</td>\n      <td>3.319096</td>\n      <td>4.594213</td>\n      <td>4.647988</td>\n      <td>5.000000</td>\n      <td>...</td>\n      <td>4.686996</td>\n      <td>2.290334</td>\n      <td>3.942625</td>\n      <td>3.703690</td>\n      <td>2.000000</td>\n      <td>4.437018</td>\n      <td>1.000000</td>\n      <td>3.971785</td>\n      <td>4.558835</td>\n      <td>5.000000</td>\n    </tr>\n    <tr>\n      <th>38</th>\n      <td>39</td>\n      <td>38</td>\n      <td>4.843339</td>\n      <td>5.230326</td>\n      <td>4.905306</td>\n      <td>3.000000</td>\n      <td>3.296027</td>\n      <td>4.586619</td>\n      <td>4.654079</td>\n      <td>5.000000</td>\n      <td>...</td>\n      <td>5.000000</td>\n      <td>2.237602</td>\n      <td>3.926701</td>\n      <td>3.683537</td>\n      <td>2.278122</td>\n      <td>5.000000</td>\n      <td>2.671821</td>\n      <td>4.001961</td>\n      <td>4.000000</td>\n      <td>5.068436</td>\n    </tr>\n    <tr>\n      <th>39</th>\n      <td>40</td>\n      <td>39</td>\n      <td>4.522772</td>\n      <td>5.000000</td>\n      <td>5.000000</td>\n      <td>4.013005</td>\n      <td>2.973904</td>\n      <td>5.000000</td>\n      <td>4.376425</td>\n      <td>5.000000</td>\n      <td>...</td>\n      <td>4.472069</td>\n      <td>1.849030</td>\n      <td>3.595913</td>\n      <td>3.349335</td>\n      <td>1.941634</td>\n      <td>4.080712</td>\n      <td>2.300676</td>\n      <td>4.000000</td>\n      <td>4.237600</td>\n      <td>5.000000</td>\n    </tr>\n    <tr>\n      <th>40</th>\n      <td>41</td>\n      <td>40</td>\n      <td>4.564450</td>\n      <td>5.128571</td>\n      <td>4.667871</td>\n      <td>4.000000</td>\n      <td>2.980095</td>\n      <td>4.283241</td>\n      <td>4.000000</td>\n      <td>5.206253</td>\n      <td>...</td>\n      <td>4.529520</td>\n      <td>1.817001</td>\n      <td>3.614585</td>\n      <td>3.361754</td>\n      <td>1.921633</td>\n      <td>4.000000</td>\n      <td>2.282230</td>\n      <td>3.941883</td>\n      <td>4.273429</td>\n      <td>4.923185</td>\n    </tr>\n  </tbody>\n</table>\n<p>5 rows × 117 columns</p>\n</div>",
            "text/plain": "    Unnamed: 0   X  \\\n36          37  36   \n37          38  37   \n38          39  38   \n39          40  39   \n40          41  40   \n\n    X10.Minute.Sausage.Skillet.with.Cherry.Tomatoes.and.Broccolini  \\\n36                                           4.784748                \n37                                           5.000000                \n38                                           4.843339                \n39                                           4.522772                \n40                                           4.564450                \n\n    Arroz.Caldo..Chicken.Rice.Porridge.  \\\n36                             5.098590   \n37                             5.195067   \n38                             5.230326   \n39                             5.000000   \n40                             5.128571   \n\n    Baked.Feta.and.Greens.with.Lemony.Yogurt  \\\n36                                  4.830509   \n37                                  5.000000   \n38                                  4.905306   \n39                                  5.000000   \n40                                  4.667871   \n\n    Baked.Mustard.Crusted.Salmon.with.Asparagus.and.Tarragon  \\\n36                                           4.000000          \n37                                           4.383544          \n38                                           3.000000          \n39                                           4.013005          \n40                                           4.000000          \n\n    Baked.Penne.with.Green.Chiles  \\\n36                       3.299461   \n37                       3.319096   \n38                       3.296027   \n39                       2.973904   \n40                       2.980095   \n\n    Basil.Cashew.Lime.Vermicelli.Bowls.with.Pork.and.Green.Beans  \\\n36                                           4.544617              \n37                                           4.594213              \n38                                           4.586619              \n39                                           5.000000              \n40                                           4.283241              \n\n    Beef.and.Potato.Pasties  Black.Eyed.Peas.With.Chard.and.Green.Herb.Smash  \\\n36                 4.000000                                         5.190940   \n37                 4.647988                                         5.000000   \n38                 4.654079                                         5.000000   \n39                 4.376425                                         5.000000   \n40                 4.000000                                         5.206253   \n\n                      ...                     Tomato.and.Cannellini.Bean.Soup  \\\n36                    ...                                            4.613763   \n37                    ...                                            4.686996   \n38                    ...                                            5.000000   \n39                    ...                                            4.472069   \n40                    ...                                            4.529520   \n\n    Tuna.and.Artichoke.Cooler.Pressed.Sandwiches  \\\n36                                      2.310698   \n37                                      2.290334   \n38                                      2.237602   \n39                                      1.849030   \n40                                      1.817001   \n\n    Twice.Baked.Butternut.Squash.With.Parmesan.Cream.and.Candied.Bacon  \\\n36                                           5.000000                    \n37                                           3.942625                    \n38                                           3.926701                    \n39                                           3.595913                    \n40                                           3.614585                    \n\n    Vegetarian.Brown.Rice.Salad.With.Parsnips.and.Whipped.Ricotta  \\\n36                                           3.676631               \n37                                           3.703690               \n38                                           3.683537               \n39                                           3.349335               \n40                                           3.361754               \n\n    Veggie.Burgers.with.Zucchini.and.Corn  \\\n36                               2.327916   \n37                               2.000000   \n38                               2.278122   \n39                               1.941634   \n40                               1.921633   \n\n    Very.Versatile.Baked.Beans.With.Cabbage  \\\n36                                 4.393212   \n37                                 4.437018   \n38                                 5.000000   \n39                                 4.080712   \n40                                 4.000000   \n\n    Vietnamese.Style.Spaghetti.Squash..Noodle..Bowls.with.Skirt.Steak  \\\n36                                           2.720434                   \n37                                           1.000000                   \n38                                           2.671821                   \n39                                           2.300676                   \n40                                           2.282230                   \n\n    White.Bean.Salad.with.Lemon.and.Cumin  White.Chicken.Chili  \\\n36                               4.000000             5.000000   \n37                               3.971785             4.558835   \n38                               4.001961             4.000000   \n39                               4.000000             4.237600   \n40                               3.941883             4.273429   \n\n    Winter.Squash.Soup.with.Gruyère.Croutons  \n36                                  4.956793  \n37                                  5.000000  \n38                                  5.068436  \n39                                  5.000000  \n40                                  4.923185  \n\n[5 rows x 117 columns]"
          },
          "execution_count": 6,
          "metadata": {},
          "output_type": "execute_result"
        }
      ]
    },
    {
      "metadata": {
        "trusted": false
      },
      "cell_type": "code",
      "source": "df.shape",
      "execution_count": 7,
      "outputs": [
        {
          "data": {
            "text/plain": "(41, 117)"
          },
          "execution_count": 7,
          "metadata": {},
          "output_type": "execute_result"
        }
      ]
    },
    {
      "metadata": {},
      "cell_type": "markdown",
      "source": "## Define the variables"
    },
    {
      "metadata": {
        "trusted": false
      },
      "cell_type": "code",
      "source": "# x_{itk} are binary variable\nx = {(i,t,k): MnM.binary_var(name='x_{0}_{1}_{2}'.format(i,t,k)) for i in range(2) for t in range(5) for k in range(115)}\n",
      "execution_count": 8,
      "outputs": []
    },
    {
      "metadata": {
        "trusted": false
      },
      "cell_type": "code",
      "source": "# time inequality\nw = MnM.continuous_var(name='w', lb=0)",
      "execution_count": 9,
      "outputs": []
    },
    {
      "metadata": {},
      "cell_type": "markdown",
      "source": "## Define the parameters"
    },
    {
      "metadata": {
        "trusted": false
      },
      "cell_type": "code",
      "source": "# recipe matrix \nK = 115 #number of recipes\nT = [[1,1,1,1,1],[0,1,1,1,1]]\n\n#rating for user 0 and user 1\nrating = df.iloc[0:2, -K:].values.tolist()\n\ncalories = [526.0, 699.0, 578.0, 530.0, 502.0, 329.0, 703.0, 429.0, 1010.0, 139.0, 657.0, 346.0, 620.0, 467.0, 599.0, 2887.0, 486.0, 1448.0, 460.0, 847.0, 351.0, 612.0, 549.0, 577.0, 1141.0, 885.0, 820.0, 572.0, 364.0, 539.0, 2013.0, 791.0, 458.0, 730.0, 1032.0, 637.0, 810.0, 544.0, 711.0, 257.0, 892.0, 828.0, 1062.0, 652.0, 523.0, 756.0, 355.0, 631.0, 513.0, 820.0, 719.0, 586.0, 656.0, 733.0, 816.0, 707.0, 673.0, 481.0, 441.0, 503.0, 723.0, 428.0, 245.0, 591.0, 688.0, 563.0, 157.0, 612.0, 681.0, 588.0, 1033.0, 725.0, 959.0, 194.0, 264.0, 137.0, 470.0, 393.0, 162.0, 256.0, 640.0, 492.0, 560.0, 461.0, 564.0, 835.0, 744.0, 737.0, 318.0, 534.0, 3597.0, 403.0, 497.0, 616.0, 437.0, 1040.0, 890.0, 219.0, 1051.0, 263.0, 123.0, 708.0, 581.0, 691.0, 606.0, 375.0, 388.0, 233.0, 526.0, 656.0, 188.0, 420.0, 284.0, 467.0, 165.0]\nprotein = [43.0, 50.0, 34.0, 13.0, 12.0, 20.0, 23.0, 6.0, 12.0, 3.0, 41.0, 3.0, 61.0, 10.0, 32.0, 63.0, 38.0, 56.0, 15.0, 46.0, 21.0, 25.0, 42.0, 23.0, 34.0, 56.0, 28.0, 53.0, 6.0, 37.0, 312.0, 30.0, 31.0, 58.0, 51.0, 21.0, 40.0, 24.0, 21.0, 10.0, 37.0, 25.0, 48.0, 22.0, 43.0, 51.0, 5.0, 29.0, 20.0, 45.0, 31.0, 28.0, 50.0, 23.0, 39.0, 35.0, 38.0, 8.0, 39.0, 29.0, 30.0, 5.0, 8.0, 10.0, 48.0, 40.0, 4.0, 25.0, 61.0, 48.0, 44.0, 46.0, 1.0, 2.0, 7.0, 13.0, 8.0, 13.0, 8.0, 3.0, 39.0, 8.0, 35.0, 21.0, 55.0, 57.0, 45.0, 52.0, 30.0, 45.0, 33.0, 8.0, 29.0, 13.0, 13.0, 20.0, 28.0, 9.0, 63.0, 4.0, 1.0, 20.0, 36.0, 46.0, 27.0, 9.0, 8.0, 7.0, 13.0, 22.0, 15.0, 35.0, 8.0, 21.0, 2.0]\nfat = [23.0, 35.0, 23.0, 42.0, 31.0, 26.0, 29.0, 32.0, 85.0, 9.0, 46.0, 19.0, 34.0, 9.0, 17.0, 205.0, 34.0, 102.0, 13.0, 62.0, 20.0, 27.0, 36.0, 38.0, 77.0, 28.0, 47.0, 10.0, 11.0, 24.0, 64.0, 34.0, 21.0, 46.0, 67.0, 37.0, 53.0, 28.0, 48.0, 21.0, 38.0, 44.0, 60.0, 24.0, 21.0, 32.0, 18.0, 40.0, 20.0, 56.0, 52.0, 47.0, 34.0, 34.0, 52.0, 61.0, 29.0, 36.0, 18.0, 34.0, 36.0, 21.0, 13.0, 56.0, 25.0, 23.0, 11.0, 35.0, 43.0, 39.0, 53.0, 34.0, 0.0, 11.0, 16.0, 8.0, 45.0, 19.0, 5.0, 15.0, 49.0, 28.0, 37.0, 23.0, 35.0, 52.0, 51.0, 50.0, 8.0, 14.0, 223.0, 25.0, 30.0, 37.0, 28.0, 75.0, 60.0, 10.0, 64.0, 18.0, 6.0, 41.0, 36.0, 34.0, 15.0, 16.0, 19.0, 17.0, 23.0, 36.0, 5.0, 20.0, 21.0, 36.0, 14.0]\nsodium = [715.0, 1189.0, 1151.0, 627.0, 1055.0, 327.0, 1144.0, 316.0, 273.0, 539.0, 999.0, 220.0, 1289.0, 1833.0, 968.0, 2691.0, 571.0, 784.0, 503.0, 953.0, 716.0, 765.0, 760.0, 839.0, 2287.0, 1257.0, 713.0, 1592.0, 183.0, 758.0, 12856.0, 721.0, 1825.0, 1231.0, 1592.0, 567.0, 1372.0, 840.0, 1104.0, 659.0, 982.0, 940.0, 2000.0, 1364.0, 1125.0, 1041.0, 243.0, 1512.0, 617.0, 977.0, 1600.0, 816.0, 1277.0, 1509.0, 1015.0, 598.0, 1089.0, 496.0, 1134.0, 1574.0, 806.0, 300.0, 571.0, 496.0, 1668.0, 813.0, 226.0, 906.0, 1198.0, 745.0, 3495.0, 801.0, 13.0, 110.0, 513.0, 247.0, 289.0, 877.0, 539.0, 113.0, 573.0, 413.0, 482.0, 407.0, 852.0, 1813.0, 1099.0, 708.0, 807.0, 968.0, 1869.0, 419.0, 1177.0, 935.0, 667.0, 1047.0, 1283.0, 858.0, 1212.0, 50.0, 266.0, 733.0, 1044.0, 779.0, 1365.0, 794.0, 301.0, 363.0, 1262.0, 1089.0, 483.0, 843.0, 619.0, 1050.0, 373.0]\n\nprice = [6.36,  5.46, 17.46, 11.06, 11.24,  5.71,  3.44,  8.35, 13.86,\n       11.2 , 11.85, 12.77,  8.24,  8.13, 11.92, 10.57, 11.47, 11.82,\n        5.77, 10.92, 12.88,  4.87,  8.19, 12.13, 14.67,  9.05,  9.25,\n       14.09, 10.11,  9.62, 10.1 , 10.64,  5.84,  8.89,  6.8 , 11.8 ,\n       13.23,  9.09, 10.11,  5.46,  9.16, 10.96,  6.22, 12.79, 11.91,\n       13.43, 11.29, 14.42, 11.88,  8.02, 11.77,  6.98,  8.1 , 10.88,\n       13.6 , 13.32,  6.59,  5.07, 10.43, 15.79,  5.07,  5.66, 10.14,\n        7.89,  7.87, 11.39,  5.14,  9.71, 10.6 ,  9.89,  9.15,  7.22,\n        3.74,  7.47, 10.34, 14.44, 11.76, 10.93,  7.91, 13.37, 10.24,\n       14.35, 11.  , 14.6 , 13.55,  8.06,  9.04,  9.61,  8.11, 10.07,\n       11.7 , 13.05, 12.92,  9.81,  7.83,  9.36, 10.68,  9.43,  9.46,\n        9.58, 12.63,  7.34,  4.53,  7.51,  9.6 ,  4.3 , 12.75, 12.7 ,\n       15.73,  2.43,  2.51,  8.45,  8.76,  7.34, 12.84]\n\ntau = [42, 32, 34, 40, 44, 29, 54, 45, 40, 28, 35, 42, 53, 38, 44, 60, 20,\n       50, 28, 49, 38, 30, 45, 36, 62, 45, 46, 36, 58, 47, 39, 41, 27, 41,\n       58, 38, 31, 46, 66, 53, 48, 25, 34, 34, 36, 48, 39, 27, 47, 36, 66,\n       49, 46, 37, 34, 31, 54, 39, 46, 48, 42, 46, 36, 39, 39, 31, 44, 41,\n       34, 25, 48, 48, 40, 42, 46, 46, 42, 27, 39, 37, 34, 33, 50, 38, 30,\n       27, 48, 32, 29, 39, 38, 44, 37, 35, 40, 24, 33, 37, 49, 53, 41, 38,\n       20, 28, 56, 41, 50, 33, 38, 27, 25, 69, 64, 31, 56]\n# lower(1) and upper(2) bound of nutrient\nc_bound=[2700, 3600]\np_bound= [140 ,200]\nf_bound=[150 , 250]\ns_bound= [2400 ,3000]\nB = 100 #budget\n\n# parameter for objective\nalpha = 0.1",
      "execution_count": 10,
      "outputs": []
    },
    {
      "metadata": {},
      "cell_type": "markdown",
      "source": "## Define the constraints"
    },
    {
      "metadata": {
        "trusted": false
      },
      "cell_type": "code",
      "source": "# five meals constraints, one meal per day\nfor t in range(5):\n    MnM.add_constraint(MnM.sum(x[i,t,k] for i in range(2) for k in range(115)) == 1, ctname = 'subject to five_meals_total')\n\n\n# nutrition lower bound\nMnM.add_constraint(MnM.sum(calories[k]*x[i,t,k] for i in range(2) for t in range(5) for k in range(K)) >= c_bound[0])\nMnM.add_constraint(MnM.sum(protein[k]*x[i,t,k] for i in range(2) for t in range(5) for k in range(K)) >= p_bound[0])\nMnM.add_constraint(MnM.sum(fat[k]*x[i,t,k] for i in range(2) for t in range(5) for k in range(K)) >= f_bound[0])\nMnM.add_constraint(MnM.sum(sodium[k]*x[i,t,k] for i in range(2) for t in range(5) for k in range(K)) >= s_bound[0])\n\n# nutrition upper bound\nMnM.add_constraint(MnM.sum(calories[k]*x[i,t,k] for i in range(2) for t in range(5) for k in range(K)) <= c_bound[1] )\nMnM.add_constraint(MnM.sum(protein[k]*x[i,t,k] for i in range(2) for t in range(5) for k in range(K)) <= p_bound[1] )\nMnM.add_constraint(MnM.sum(fat[k]*x[i,t,k] for i in range(2) for t in range(5) for k in range(K)) <= f_bound[1] )\nMnM.add_constraint(MnM.sum(sodium[k]*x[i,t,k] for i in range(2) for t in range(5) for k in range(K)) <= s_bound[1] )\n\n#budget constraint\nMnM.add_constraint(MnM.sum(price[k]*x[i,t,k] for i in range(2) for t in range(5) for k in range(K)) <= B  )\n\n        \n# schedule time inequalities\nMnM.add_constraint(MnM.sum(tau[k]* (x[0,t,k] - x[1,t,k]) for t in range(5) for k in range(K)) <= w)\nMnM.add_constraint(MnM.sum(tau[k]* (x[0,t,k] - x[1,t,k]) for t in range(5) for k in range(K)) >= -w)\n\n        \n# schedule date constraint\nfor i in range(2):\n    for t in range(5):\n        MnM.add_constraint(MnM.sum(x[i,t,k] for k in range(115)) <= T[i][t])\n    ",
      "execution_count": 12,
      "outputs": []
    },
    {
      "metadata": {},
      "cell_type": "markdown",
      "source": "## Define the objective function"
    },
    {
      "metadata": {
        "trusted": false
      },
      "cell_type": "code",
      "source": "MnM.maximize(MnM.sum((rating[0][k]+rating[1][k])*x[i,t,k] for i in range(2) for t in range(5) for k in range(K)) - alpha*w)",
      "execution_count": 13,
      "outputs": []
    },
    {
      "metadata": {},
      "cell_type": "markdown",
      "source": "## Solve the problem"
    },
    {
      "metadata": {
        "trusted": false
      },
      "cell_type": "code",
      "source": "MnM.print_information()",
      "execution_count": 14,
      "outputs": [
        {
          "name": "stdout",
          "output_type": "stream",
          "text": "Model: Meal Planning for the New Millennium\n - number of variables: 1151\n   - binary=1150, integer=0, continuous=1\n - number of constraints: 26\n   - linear=26\n - parameters: defaults\n"
        }
      ]
    },
    {
      "metadata": {
        "trusted": false
      },
      "cell_type": "code",
      "source": "MnMs= MnM.solve(log_output=True)\nassert MnMs\nMnM.print_solution()",
      "execution_count": 15,
      "outputs": [
        {
          "name": "stdout",
          "output_type": "stream",
          "text": "CPXPARAM_Read_DataCheck                          1\nTried aggregator 1 time.\nMIP Presolve eliminated 11 rows and 133 columns.\nMIP Presolve modified 4137 coefficients.\nReduced MIP has 15 rows, 1018 columns, and 11009 nonzeros.\nReduced MIP has 1017 binaries, 0 generals, 0 SOSs, and 0 indicators.\nPresolve time = 0.02 sec. (10.80 ticks)\nProbing fixed 18 vars, tightened 0 bounds.\nProbing time = 0.02 sec. (16.02 ticks)\nTried aggregator 1 time.\nMIP Presolve eliminated 0 rows and 18 columns.\nReduced MIP has 15 rows, 1000 columns, and 10811 nonzeros.\nReduced MIP has 999 binaries, 1 generals, 0 SOSs, and 0 indicators.\nPresolve time = 0.01 sec. (6.49 ticks)\nProbing time = 0.01 sec. (4.19 ticks)\nClique table members: 498.\nMIP emphasis: balance optimality and feasibility.\nMIP search method: dynamic search.\nParallel mode: deterministic, using up to 8 threads.\nRoot relaxation solution time = 0.01 sec. (4.52 ticks)\n\n        Nodes                                         Cuts/\n   Node  Left     Objective  IInf  Best Integer    Best Bound    ItCnt     Gap\n\n*     0+    0                           28.6810     8005.4334              --- \n*     0+    0                           29.6810     8005.4334              --- \n*     0+    0                           30.6810     8005.4334              --- \n*     0+    0                           31.6810     8005.4334              --- \n      0     0       51.6044     6       31.6810       51.6044       34   62.89%\n*     0+    0                           49.4569       51.6044             4.34%\n      0     0       51.5089     7       49.4569       Cuts: 6       47    4.15%\n      0     0       51.5089    10       49.4569       Cuts: 5       51    4.15%\n\nRepeating presolve.\nTried aggregator 1 time.\nMIP Presolve eliminated 0 rows and 522 columns.\nReduced MIP has 15 rows, 478 columns, and 5105 nonzeros.\nReduced MIP has 477 binaries, 1 generals, 0 SOSs, and 0 indicators.\nPresolve time = 0.01 sec. (2.83 ticks)\nProbing time = 0.00 sec. (3.19 ticks)\nTried aggregator 1 time.\nReduced MIP has 15 rows, 478 columns, and 5105 nonzeros.\nReduced MIP has 477 binaries, 1 generals, 0 SOSs, and 0 indicators.\nPresolve time = 0.01 sec. (2.99 ticks)\nRepresolve time = 0.03 sec. (11.49 ticks)\nProbing time = 0.00 sec. (3.19 ticks)\nClique table members: 78.\nMIP emphasis: balance optimality and feasibility.\nMIP search method: dynamic search.\nParallel mode: deterministic, using up to 8 threads.\nRoot relaxation solution time = 0.00 sec. (1.45 ticks)\n\n        Nodes                                         Cuts/\n   Node  Left     Objective  IInf  Best Integer    Best Bound    ItCnt     Gap\n\n*     0+    0                           49.4569       51.5089             4.15%\n      0     0       51.5089     8       49.4569       51.5089       92    4.15%\n      0     0       51.5089    12       49.4569       Cuts: 6      102    4.15%\n*     0+    0                           49.5124       51.5089             4.03%\n      0     2       51.5089     8       49.5124       51.5089      102    4.03%\nElapsed time = 0.52 sec. (144.40 ticks, tree = 0.01 MB, solutions = 6)\n*    10+    1                           49.6946       51.5089             3.65%\n*    92    19      integral     0       50.7634       51.5089      300    1.47%\n\nCover cuts applied:  58\n\nRoot node processing (before b&c):\n  Real time             =    0.49 sec. (144.37 ticks)\nParallel b&c, 8 threads:\n  Real time             =    0.15 sec. (22.98 ticks)\n  Sync time (average)   =    0.10 sec.\n  Wait time (average)   =    0.00 sec.\n                          ------------\nTotal (root+branch&cut) =    0.65 sec. (167.34 ticks)\nobjective: 50.763\n  x_0_0_0=1\n  x_0_3_38=1\n  x_1_1_72=1\n  x_1_2_80=1\n  x_1_4_80=1\n"
        }
      ]
    },
    {
      "metadata": {
        "trusted": false
      },
      "cell_type": "code",
      "source": "",
      "execution_count": null,
      "outputs": []
    },
    {
      "metadata": {
        "trusted": false
      },
      "cell_type": "code",
      "source": "",
      "execution_count": null,
      "outputs": []
    }
  ],
  "metadata": {
    "kernelspec": {
      "name": "python3",
      "display_name": "Python 3",
      "language": "python"
    },
    "language_info": {
      "mimetype": "text/x-python",
      "nbconvert_exporter": "python",
      "name": "python",
      "file_extension": ".py",
      "version": "3.5.4",
      "pygments_lexer": "ipython3",
      "codemirror_mode": {
        "version": 3,
        "name": "ipython"
      }
    },
    "toc": {
      "base_numbering": 1,
      "nav_menu": {},
      "number_sections": true,
      "sideBar": true,
      "skip_h1_title": false,
      "title_cell": "Table of Contents",
      "title_sidebar": "Contents",
      "toc_cell": false,
      "toc_position": {},
      "toc_section_display": true,
      "toc_window_display": false
    }
  },
  "nbformat": 4,
  "nbformat_minor": 2
}